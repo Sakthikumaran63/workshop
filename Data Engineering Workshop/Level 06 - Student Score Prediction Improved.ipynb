{
 "cells": [
  {
   "cell_type": "code",
   "execution_count": 0,
   "metadata": {
    "application/vnd.databricks.v1+cell": {
     "cellMetadata": {
      "byteLimit": 2048000,
      "rowLimit": 10000
     },
     "inputWidgets": {},
     "nuid": "9b70a705-917b-427e-99ac-ccfc96cf1f23",
     "showTitle": false,
     "tableResultSettingsMap": {},
     "title": ""
    }
   },
   "outputs": [],
   "source": [
    "import pandas as pd\n",
    "import numpy as np\n",
    "\n",
    "# Set seed for reproducibility\n",
    "np.random.seed(42)\n",
    "\n",
    "# Generate 30 students' data\n",
    "n = 300\n",
    "study_hours = np.random.randint(1, 11, n)           # 1 to 10 hours\n",
    "attendance = np.random.randint(50, 101, n)          # 50% to 100%\n",
    "previous_score = np.random.randint(30, 91, n)       # 30 to 90\n",
    "noise = np.random.normal(0, 3, n)                   # small random noise\n",
    "\n",
    "# Assume a weighted sum formula for final score\n",
    "# final_score = (\n",
    "#     0.4 * study_hours +\n",
    "#     0.3 * (attendance / 10) +\n",
    "#     0.3 * (previous_score / 2)\n",
    "# ) + noise\n",
    "\n",
    "final_score = (\n",
    "    0.3 * study_hours +\n",
    "    0.3 * (attendance / 10) +\n",
    "    0.4 * previous_score + 10  # no division\n",
    ") + np.random.normal(0, 3, n)\n",
    "\n",
    "\n",
    "# Round and cap the scores\n",
    "final_score = np.clip(np.round(final_score, 1), 0, 100)\n",
    "\n",
    "# Create DataFrame\n",
    "df = pd.DataFrame({\n",
    "    'study_hours': study_hours,\n",
    "    'attendance': attendance,\n",
    "    'previous_score': previous_score,\n",
    "    'final_score': final_score\n",
    "})\n",
    "\n",
    "df.head(10)\n"
   ]
  },
  {
   "cell_type": "code",
   "execution_count": 0,
   "metadata": {
    "application/vnd.databricks.v1+cell": {
     "cellMetadata": {
      "byteLimit": 2048000,
      "rowLimit": 10000
     },
     "inputWidgets": {},
     "nuid": "ba9da012-047e-41f3-b205-d40fa0aeb56e",
     "showTitle": false,
     "tableResultSettingsMap": {},
     "title": ""
    }
   },
   "outputs": [],
   "source": [
    "import numpy as np\n",
    "\n",
    "# Add some random noise to the final score\n",
    "#df['final_score'] = df['final_score'] + np.random.normal(0, 2, size=len(df))\n"
   ]
  },
  {
   "cell_type": "code",
   "execution_count": 0,
   "metadata": {
    "application/vnd.databricks.v1+cell": {
     "cellMetadata": {
      "byteLimit": 2048000,
      "rowLimit": 10000
     },
     "inputWidgets": {},
     "nuid": "54bac124-e4a1-4fe4-a26a-4a1d8d506f04",
     "showTitle": false,
     "tableResultSettingsMap": {},
     "title": ""
    }
   },
   "outputs": [],
   "source": [
    "from sklearn.model_selection import train_test_split\n",
    "\n",
    "X = df[['study_hours', 'attendance', 'previous_score']]\n",
    "y = df['final_score']\n",
    "\n",
    "X_train, X_test, y_train, y_test = train_test_split(X, y, test_size=0.2, random_state=42)\n"
   ]
  },
  {
   "cell_type": "code",
   "execution_count": 0,
   "metadata": {
    "application/vnd.databricks.v1+cell": {
     "cellMetadata": {
      "byteLimit": 2048000,
      "rowLimit": 10000
     },
     "inputWidgets": {},
     "nuid": "23081aca-15e3-4bf1-84d8-2e7282d4d5d4",
     "showTitle": false,
     "tableResultSettingsMap": {
      "0": {
       "dataGridStateBlob": "{\"version\":1,\"tableState\":{\"columnPinning\":{\"left\":[\"#row_number#\"],\"right\":[]},\"columnSizing\":{},\"columnVisibility\":{}},\"settings\":{\"columns\":{}},\"syncTimestamp\":1752764644044}",
       "filterBlob": null,
       "queryPlanFiltersBlob": null,
       "tableResultIndex": 0
      }
     },
     "title": ""
    }
   },
   "outputs": [],
   "source": [
    "display(X_test.assign(final_score=y_test.values))"
   ]
  },
  {
   "cell_type": "code",
   "execution_count": 0,
   "metadata": {
    "application/vnd.databricks.v1+cell": {
     "cellMetadata": {
      "byteLimit": 2048000,
      "rowLimit": 10000
     },
     "inputWidgets": {},
     "nuid": "240c2f8d-ad21-4b5d-a9c6-fac7166d3dd8",
     "showTitle": false,
     "tableResultSettingsMap": {},
     "title": ""
    }
   },
   "outputs": [],
   "source": [
    "from sklearn.linear_model import LinearRegression\n",
    "\n",
    "model = LinearRegression()\n",
    "model.fit(X_train, y_train)\n"
   ]
  },
  {
   "cell_type": "code",
   "execution_count": 0,
   "metadata": {
    "application/vnd.databricks.v1+cell": {
     "cellMetadata": {
      "byteLimit": 2048000,
      "rowLimit": 10000
     },
     "inputWidgets": {},
     "nuid": "e1930fe8-f4bf-439d-a8fb-683ba55494eb",
     "showTitle": false,
     "tableResultSettingsMap": {},
     "title": ""
    }
   },
   "outputs": [],
   "source": [
    "from sklearn.metrics import mean_absolute_error, mean_squared_error, r2_score\n",
    "\n",
    "y_pred = model.predict(X_test)\n",
    "\n",
    "print(\"Mean Absolute Error:\", mean_absolute_error(y_test, y_pred))\n",
    "print(\"Mean Squared Error:\", mean_squared_error(y_test, y_pred))\n",
    "print(\"R2 Score:\", r2_score(y_test, y_pred))\n"
   ]
  },
  {
   "cell_type": "code",
   "execution_count": 0,
   "metadata": {
    "application/vnd.databricks.v1+cell": {
     "cellMetadata": {
      "byteLimit": 2048000,
      "rowLimit": 10000
     },
     "inputWidgets": {},
     "nuid": "4659a446-3593-434b-bd42-c878f239d690",
     "showTitle": false,
     "tableResultSettingsMap": {},
     "title": ""
    }
   },
   "outputs": [],
   "source": [
    "new_data = pd.DataFrame({\n",
    "    'study_hours': [3],\n",
    "    'attendance': [89],\n",
    "    'previous_score': [82]\n",
    "})\n",
    "\n",
    "predicted_score = model.predict(new_data)\n",
    "print(f\"Predicted Final Score: {predicted_score[0]:.2f}\")\n"
   ]
  },
  {
   "cell_type": "code",
   "execution_count": 0,
   "metadata": {
    "application/vnd.databricks.v1+cell": {
     "cellMetadata": {
      "byteLimit": 2048000,
      "rowLimit": 10000
     },
     "inputWidgets": {},
     "nuid": "295088bb-5731-4ee8-b7ae-a99f82b500e0",
     "showTitle": false,
     "tableResultSettingsMap": {},
     "title": ""
    }
   },
   "outputs": [],
   "source": [
    "new_data = pd.DataFrame({\n",
    "    'study_hours': [7],\n",
    "    'attendance': [92],\n",
    "    'previous_score': [66]\n",
    "})\n",
    "\n",
    "predicted_score = model.predict(new_data)\n",
    "print(f\"Predicted Final Score: {predicted_score[0]:.2f}\")\n"
   ]
  },
  {
   "cell_type": "code",
   "execution_count": 0,
   "metadata": {
    "application/vnd.databricks.v1+cell": {
     "cellMetadata": {
      "byteLimit": 2048000,
      "rowLimit": 10000
     },
     "inputWidgets": {},
     "nuid": "1b17eb53-7878-4ab8-87b2-610539cee358",
     "showTitle": false,
     "tableResultSettingsMap": {},
     "title": ""
    }
   },
   "outputs": [],
   "source": [
    "import matplotlib.pyplot as plt\n",
    "\n",
    "plt.scatter(y_test, y_pred)\n",
    "plt.xlabel(\"Actual Final Scores\")\n",
    "plt.ylabel(\"Predicted Final Scores\")\n",
    "plt.title(\"Actual vs Predicted Scores\")\n",
    "plt.grid(True)\n",
    "plt.show()\n"
   ]
  }
 ],
 "metadata": {
  "application/vnd.databricks.v1+notebook": {
   "computePreferences": null,
   "dashboards": [],
   "environmentMetadata": {
    "base_environment": "",
    "environment_version": "2"
   },
   "inputWidgetPreferences": null,
   "language": "python",
   "notebookMetadata": {
    "pythonIndentUnit": 4
   },
   "notebookName": "Level 06 - Student Score Prediction Improved",
   "widgets": {}
  },
  "language_info": {
   "name": "python"
  }
 },
 "nbformat": 4,
 "nbformat_minor": 0
}
