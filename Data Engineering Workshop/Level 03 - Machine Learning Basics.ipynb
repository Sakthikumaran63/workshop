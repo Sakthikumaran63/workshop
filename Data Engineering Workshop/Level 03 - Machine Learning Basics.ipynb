{
 "cells": [
  {
   "cell_type": "markdown",
   "metadata": {
    "application/vnd.databricks.v1+cell": {
     "cellMetadata": {},
     "inputWidgets": {},
     "nuid": "58243b3b-0dba-4547-8fc8-4faca0d5c694",
     "showTitle": false,
     "tableResultSettingsMap": {},
     "title": ""
    }
   },
   "source": [
    "\n",
    "## 📘 Machine Learning Glossary\n",
    "\n",
    "**Data:** Raw information used to train models  \n",
    "**Feature:** An input variable  \n",
    "**Label (Target):** The output the model should learn to predict  \n",
    "**Dataset:** A table of features and labels  \n",
    "**Model:** A mathematical function that learns from data  \n",
    "**Training:** Feeding data to the model to learn patterns  \n",
    "**Prediction (Inference):** Using a trained model to get output on new data  \n",
    "**Classification:** Predicting categories (e.g., spam/not spam)  \n",
    "**Regression:** Predicting continuous values (e.g., price)  \n",
    "**Supervised Learning:** Learning from labeled data  \n",
    "**Unsupervised Learning:** Learning patterns in unlabeled data  \n",
    "**Reinforcement Learning:** Learning by trial and error with rewards  \n",
    "**Overfitting:** Model is too complex, memorizes training data  \n",
    "**Underfitting:** Model is too simple, misses patterns  \n",
    "**Confusion Matrix:** A summary of prediction performance in classification  \n",
    "**MLflow:** A tool for tracking ML experiments in Databricks  \n"
   ]
  }
 ],
 "metadata": {
  "application/vnd.databricks.v1+notebook": {
   "computePreferences": null,
   "dashboards": [],
   "environmentMetadata": {
    "base_environment": "",
    "environment_version": "2"
   },
   "inputWidgetPreferences": null,
   "language": "python",
   "notebookMetadata": {
    "pythonIndentUnit": 4
   },
   "notebookName": "Level 03 - Machine Learning Basics",
   "widgets": {}
  },
  "language_info": {
   "name": "python"
  }
 },
 "nbformat": 4,
 "nbformat_minor": 0
}
